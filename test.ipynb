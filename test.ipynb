{
 "cells": [
  {
   "cell_type": "code",
   "execution_count": 52,
   "metadata": {},
   "outputs": [],
   "source": [
    "# All credit to the code I've copied from\n",
    "# https://github.com/wukevin/proteinclip/blob/main/proteinclip/esm_wrapper.py\n",
    "import esm\n",
    "import torch.nn as nn\n",
    "import torch\n",
    "import numpy as np\n",
    "from Bio import SeqIO\n",
    "from tqdm import tqdm\n",
    "import umap\n",
    "import matplotlib.pyplot as plt\n",
    "\n",
    "ESM_CALLABLES = {\n",
    "    48: esm.pretrained.esm2_t48_15B_UR50D,\n",
    "    36: esm.pretrained.esm2_t36_3B_UR50D,\n",
    "    33: esm.pretrained.esm2_t33_650M_UR50D,\n",
    "    30: esm.pretrained.esm2_t30_150M_UR50D,\n",
    "    12: esm.pretrained.esm2_t12_35M_UR50D,\n",
    "    6: esm.pretrained.esm2_t6_8M_UR50D,\n",
    "}\n",
    "\n",
    "# https://www.rcsb.org/structure/4O75\n",
    "protein = \"rcsb_pdb_4O75.fasta\""
   ]
  },
  {
   "cell_type": "code",
   "execution_count": 3,
   "metadata": {},
   "outputs": [],
   "source": [
    "def get_model(model_size: int) -> tuple[nn.Module, esm.Alphabet]:\n",
    "    \"\"\"Return model and alphabet for a given model size.\"\"\"\n",
    "    model, alphabet = ESM_CALLABLES[model_size]()\n",
    "    model.eval()\n",
    "    return model, alphabet"
   ]
  },
  {
   "cell_type": "code",
   "execution_count": 19,
   "metadata": {},
   "outputs": [],
   "source": [
    "def read_fasta(filename):\n",
    "\tfa = SeqIO.parse(filename, \"fasta\")\n",
    "\tsequences = []\n",
    "\tids = []\n",
    "\tfor i in fa:\n",
    "\t\tids.append(i.id)\n",
    "\t\tsequences.append(str(i.seq))\n",
    "\treturn list(zip(ids,sequences ))"
   ]
  },
  {
   "cell_type": "code",
   "execution_count": 76,
   "metadata": {},
   "outputs": [],
   "source": [
    "def embed(sequence, model, alphabet, embed_layer=5):\n",
    "    batch_converter = alphabet.get_batch_converter()\n",
    "\n",
    "    _,_, tokens = batch_converter(\n",
    "        [(\"\", sequence)]\n",
    "    )\n",
    "    with torch.no_grad():\n",
    "        results = model(\n",
    "            tokens, repr_layers=[embed_layer], return_contacts=False\n",
    "        )\n",
    "    token_representations = results[\"representations\"][embed_layer]\n",
    "    rep = token_representations[0, 1 : 1 + len(sequence)].cpu().numpy()\n",
    "    rep = rep.mean(0)\n",
    "\n",
    "    return rep"
   ]
  },
  {
   "cell_type": "code",
   "execution_count": 62,
   "metadata": {},
   "outputs": [
    {
     "data": {
      "text/plain": [
       "436"
      ]
     },
     "execution_count": 62,
     "metadata": {},
     "output_type": "execute_result"
    }
   ],
   "source": [
    "from Bio.SeqUtils import seq1\n",
    "from io import StringIO\n",
    "from Bio.PDB import PDBParser\n",
    "import os\n",
    "\n",
    "VENOME = \"/Users/donnybertucci/datasets/venome\"\n",
    "\n",
    "def amino_acids(structure, one_letter_code=True):\n",
    "\treturn \"\".join([\n",
    "\t\tseq1(residue.resname) if one_letter_code else residue.resname\n",
    "\t\tfor residue in structure.get_residues()\n",
    "\t])\n",
    "\n",
    "def read_fasta_from_pdbs(path):\n",
    "\tif not os.path.exists(path):\n",
    "\t\traise Exception(path + \" does not exist\")\n",
    "\t\n",
    "\tfiles = os.listdir(path)\n",
    "\tsequences = []\n",
    "\tids = []\n",
    "\tfor f in files:\n",
    "\t\tparser = PDBParser()\n",
    "\t\tstructure = parser.get_structure(\n",
    "\t\t\t\tid=None, file=os.path.join(path, f)\n",
    "\t\t)\n",
    "\t\tids.append(f)\n",
    "\t\tsequences.append(amino_acids(structure))\n",
    "\t\n",
    "\treturn list(zip(ids, sequences))\n",
    "\n",
    "seqs = read_fasta_from_pdbs(VENOME)\n",
    "len(seqs)"
   ]
  },
  {
   "cell_type": "code",
   "execution_count": 77,
   "metadata": {},
   "outputs": [
    {
     "name": "stderr",
     "output_type": "stream",
     "text": [
      "100%|██████████| 436/436 [06:41<00:00,  1.08it/s]\n"
     ]
    }
   ],
   "source": [
    "out = []\n",
    "layer = 30\n",
    "m, a = get_model(layer)\n",
    "for i, s in tqdm(seqs):\n",
    "\tout.append(embed(s, m, a, layer))"
   ]
  },
  {
   "cell_type": "code",
   "execution_count": 78,
   "metadata": {},
   "outputs": [
    {
     "data": {
      "text/plain": [
       "<matplotlib.collections.PathCollection at 0x160e9cef0>"
      ]
     },
     "execution_count": 78,
     "metadata": {},
     "output_type": "execute_result"
    },
    {
     "data": {
      "image/png": "[encoded data removed]",
      "text/plain": [
       "<Figure size 640x480 with 1 Axes>"
      ]
     },
     "metadata": {},
     "output_type": "display_data"
    }
   ],
   "source": [
    "project = umap.UMAP()\n",
    "out2D = project.fit_transform(out)\n",
    "plt.scatter(out2D[:, 0], out2D[:, 1])"
   ]
  },
  {
   "cell_type": "code",
   "execution_count": 79,
   "metadata": {},
   "outputs": [],
   "source": [
    "import pandas as pd"
   ]
  },
  {
   "cell_type": "code",
   "execution_count": 82,
   "metadata": {},
   "outputs": [
    {
     "data": {
      "text/html": [
       "<div>\n",
       "<style scoped>\n",
       "    .dataframe tbody tr th:only-of-type {\n",
       "        vertical-align: middle;\n",
       "    }\n",
       "\n",
       "    .dataframe tbody tr th {\n",
       "        vertical-align: top;\n",
       "    }\n",
       "\n",
       "    .dataframe thead th {\n",
       "        text-align: right;\n",
       "    }\n",
       "</style>\n",
       "<table border=\"1\" class=\"dataframe\">\n",
       "  <thead>\n",
       "    <tr style=\"text-align: right;\">\n",
       "      <th></th>\n",
       "      <th>name</th>\n",
       "      <th>embed-30</th>\n",
       "    </tr>\n",
       "  </thead>\n",
       "  <tbody>\n",
       "    <tr>\n",
       "      <th>0</th>\n",
       "      <td>Lh14_comp137_c2_seq1.pdb</td>\n",
       "      <td>[-0.0683364, -0.09229992, -0.06664363, -0.1422...</td>\n",
       "    </tr>\n",
       "    <tr>\n",
       "      <th>1</th>\n",
       "      <td>Lh14_comp797_c0_seq3.pdb</td>\n",
       "      <td>[-0.072703, -0.053945504, 0.091969036, 0.15721...</td>\n",
       "    </tr>\n",
       "    <tr>\n",
       "      <th>2</th>\n",
       "      <td>Gh_comp244_c0_seq1.pdb</td>\n",
       "      <td>[0.060252294, -0.11117418, 0.025219534, -0.055...</td>\n",
       "    </tr>\n",
       "    <tr>\n",
       "      <th>3</th>\n",
       "      <td>Lh14_comp1630_c0_seq5.pdb</td>\n",
       "      <td>[-0.07718672, 0.033781517, -0.02802218, -0.021...</td>\n",
       "    </tr>\n",
       "    <tr>\n",
       "      <th>4</th>\n",
       "      <td>Gh_comp714_c0_seq1.pdb</td>\n",
       "      <td>[-0.02680155, -0.065228485, -0.08670912, -0.03...</td>\n",
       "    </tr>\n",
       "    <tr>\n",
       "      <th>...</th>\n",
       "      <td>...</td>\n",
       "      <td>...</td>\n",
       "    </tr>\n",
       "    <tr>\n",
       "      <th>431</th>\n",
       "      <td>Lh14_comp131_c0_seq1.pdb</td>\n",
       "      <td>[0.017292315, -0.117223606, -0.060315054, 0.02...</td>\n",
       "    </tr>\n",
       "    <tr>\n",
       "      <th>432</th>\n",
       "      <td>Lh14_comp2613_c1_seq2.pdb</td>\n",
       "      <td>[-0.14403377, 0.06453869, 0.026057027, -0.0275...</td>\n",
       "    </tr>\n",
       "    <tr>\n",
       "      <th>433</th>\n",
       "      <td>Lb17_comp433_c0_seq1.pdb</td>\n",
       "      <td>[-0.11523464, 0.09561256, 0.03285806, -0.10856...</td>\n",
       "    </tr>\n",
       "    <tr>\n",
       "      <th>434</th>\n",
       "      <td>Gh_comp6627_c0_seq1.pdb</td>\n",
       "      <td>[-0.11080586, 0.035449702, -0.07572947, -0.152...</td>\n",
       "    </tr>\n",
       "    <tr>\n",
       "      <th>435</th>\n",
       "      <td>Lh14_comp326_c0_seq1.pdb</td>\n",
       "      <td>[0.08387413, -0.16791327, -0.055598702, 0.0136...</td>\n",
       "    </tr>\n",
       "  </tbody>\n",
       "</table>\n",
       "<p>436 rows × 2 columns</p>\n",
       "</div>"
      ],
      "text/plain": [
       "                          name  \\\n",
       "0     Lh14_comp137_c2_seq1.pdb   \n",
       "1     Lh14_comp797_c0_seq3.pdb   \n",
       "2       Gh_comp244_c0_seq1.pdb   \n",
       "3    Lh14_comp1630_c0_seq5.pdb   \n",
       "4       Gh_comp714_c0_seq1.pdb   \n",
       "..                         ...   \n",
       "431   Lh14_comp131_c0_seq1.pdb   \n",
       "432  Lh14_comp2613_c1_seq2.pdb   \n",
       "433   Lb17_comp433_c0_seq1.pdb   \n",
       "434    Gh_comp6627_c0_seq1.pdb   \n",
       "435   Lh14_comp326_c0_seq1.pdb   \n",
       "\n",
       "                                              embed-30  \n",
       "0    [-0.0683364, -0.09229992, -0.06664363, -0.1422...  \n",
       "1    [-0.072703, -0.053945504, 0.091969036, 0.15721...  \n",
       "2    [0.060252294, -0.11117418, 0.025219534, -0.055...  \n",
       "3    [-0.07718672, 0.033781517, -0.02802218, -0.021...  \n",
       "4    [-0.02680155, -0.065228485, -0.08670912, -0.03...  \n",
       "..                                                 ...  \n",
       "431  [0.017292315, -0.117223606, -0.060315054, 0.02...  \n",
       "432  [-0.14403377, 0.06453869, 0.026057027, -0.0275...  \n",
       "433  [-0.11523464, 0.09561256, 0.03285806, -0.10856...  \n",
       "434  [-0.11080586, 0.035449702, -0.07572947, -0.152...  \n",
       "435  [0.08387413, -0.16791327, -0.055598702, 0.0136...  \n",
       "\n",
       "[436 rows x 2 columns]"
      ]
     },
     "execution_count": 82,
     "metadata": {},
     "output_type": "execute_result"
    }
   ],
   "source": [
    "pd.DataFrame({\"name\":  [i for i,s in seqs], \"embed-30\": out }).to_parquet(\"embed30.parquet\")"
   ]
  }
 ],
 "metadata": {
  "kernelspec": {
   "display_name": "Python 3",
   "language": "python",
   "name": "python3"
  },
  "language_info": {
   "codemirror_mode": {
    "name": "ipython",
    "version": 3
   },
   "file_extension": ".py",
   "mimetype": "text/x-python",
   "name": "python",
   "nbconvert_exporter": "python",
   "pygments_lexer": "ipython3",
   "version": "3.12.3"
  }
 },
 "nbformat": 4,
 "nbformat_minor": 2
}
