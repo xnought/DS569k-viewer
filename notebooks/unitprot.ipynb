{
 "cells": [
  {
   "cell_type": "code",
   "execution_count": 8,
   "metadata": {},
   "outputs": [],
   "source": [
    "from Bio import SeqIO"
   ]
  },
  {
   "cell_type": "code",
   "execution_count": 53,
   "metadata": {},
   "outputs": [
    {
     "name": "stderr",
     "output_type": "stream",
     "text": [
      "570157it [00:05, 111928.81it/s]\n"
     ]
    }
   ],
   "source": [
    "import pandas as pd\n",
    "from tqdm import tqdm \n",
    "\n",
    "def parse_id(id):\n",
    "\ts = id.split(\"|\")\n",
    "\taccession = s[1]\n",
    "\tname = s[2]\n",
    "\treturn accession, name\n",
    "\n",
    "def parse_description(desc):\n",
    "\t# todo: parse out the organism and other stuff\n",
    "\twithout_id = \" \".join(desc.split(\" \")[1:])\n",
    "\treturn without_id\n",
    "\n",
    "\n",
    "def fasta_to_df(path=\"../uniprot_sprot.fasta\", limit=None):\n",
    "\tseqs = SeqIO.parse(path, \"fasta\") # teehee seqs\n",
    "\n",
    "\taccessions = []\n",
    "\tnames = []\n",
    "\tdescriptions = []\n",
    "\tsequences = []\n",
    "\tfor i, s in tqdm(enumerate(seqs)):\n",
    "\t\taccession, name = parse_id(s.id)\n",
    "\t\taccessions.append(accession)\n",
    "\t\tnames.append(name)\n",
    "\n",
    "\t\tdescription = parse_description(s.description)\n",
    "\t\tdescriptions.append(description) \n",
    "\n",
    "\t\tsequences.append(str(s.seq))\n",
    "\n",
    "\t\tif limit is not None and i >= limit:\n",
    "\t\t\tbreak\n",
    "\t\n",
    "\tdf = pd.DataFrame({\"accession\": accessions, \"name\": names, \"description\": descriptions, \"sequence\": sequences})\n",
    "\treturn df\n",
    "\n",
    "df = fasta_to_df()"
   ]
  },
  {
   "cell_type": "code",
   "execution_count": 55,
   "metadata": {},
   "outputs": [],
   "source": [
    "df.to_parquet(\"uniprot_sprot.paruqet\")"
   ]
  },
  {
   "cell_type": "code",
   "execution_count": null,
   "metadata": {},
   "outputs": [],
   "source": []
  }
 ],
 "metadata": {
  "kernelspec": {
   "display_name": "Python 3",
   "language": "python",
   "name": "python3"
  },
  "language_info": {
   "codemirror_mode": {
    "name": "ipython",
    "version": 3
   },
   "file_extension": ".py",
   "mimetype": "text/x-python",
   "name": "python",
   "nbconvert_exporter": "python",
   "pygments_lexer": "ipython3",
   "version": "3.12.3"
  }
 },
 "nbformat": 4,
 "nbformat_minor": 2
}
