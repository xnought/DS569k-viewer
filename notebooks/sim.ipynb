{
 "cells": [
  {
   "cell_type": "code",
   "execution_count": 1,
   "metadata": {},
   "outputs": [],
   "source": [
    "from protein_clip import embed, read_fasta, get_model, load_proteinclip\n",
    "import numpy as np"
   ]
  },
  {
   "cell_type": "code",
   "execution_count": 2,
   "metadata": {},
   "outputs": [
    {
     "data": {
      "text/plain": [
       "('4O75_1|Chain',\n",
       " 'SMNPPPPETSNPNKPKRQTNQLQYLLRVVLKTLWKHQFAWPFQQPVDAVKLNLPDYYKIIKTPMDMGTIKKRLENNYYWNAQECIQDFNTMFTNCYIYNKPGDDIVLMAEALEKLFLQKINELPTEE')"
      ]
     },
     "execution_count": 2,
     "metadata": {},
     "output_type": "execute_result"
    }
   ],
   "source": [
    "example = \"../data/rcsb_pdb_4O75.fasta\"\n",
    "seq = read_fasta(example)[0]\n",
    "seq"
   ]
  },
  {
   "cell_type": "code",
   "execution_count": 3,
   "metadata": {},
   "outputs": [
    {
     "name": "stdout",
     "output_type": "stream",
     "text": [
      "(128,)\n",
      "0.9999999\n"
     ]
    }
   ],
   "source": [
    "ESM_MODEL = 6\n",
    "model, alphabet = get_model(ESM_MODEL)\n",
    "esm_repr = embed(seq[1], model, alphabet, ESM_MODEL)\n",
    "m = load_proteinclip(ESM_MODEL)  \n",
    "\n",
    "esm_repr /= np.linalg.norm(esm_repr)\n",
    "\n",
    "x = m.predict(esm_repr)\n",
    "print(x.shape)  \n",
    "print(np.linalg.norm(x))  # 1.0; ProteinCLIP produces unit-norm vectors"
   ]
  }
 ],
 "metadata": {
  "kernelspec": {
   "display_name": "Python 3",
   "language": "python",
   "name": "python3"
  },
  "language_info": {
   "codemirror_mode": {
    "name": "ipython",
    "version": 3
   },
   "file_extension": ".py",
   "mimetype": "text/x-python",
   "name": "python",
   "nbconvert_exporter": "python",
   "pygments_lexer": "ipython3",
   "version": "3.12.3"
  }
 },
 "nbformat": 4,
 "nbformat_minor": 2
}
