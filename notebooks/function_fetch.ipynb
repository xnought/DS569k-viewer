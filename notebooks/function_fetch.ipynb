{
 "cells": [
  {
   "cell_type": "code",
   "execution_count": 11,
   "metadata": {},
   "outputs": [],
   "source": [
    "import requests\n",
    "\n",
    "def url_func_req(accession):\n",
    "\treturn f\"https://rest.uniprot.org/uniprotkb/{accession}.json?fields=cc_function\"\n",
    "\n",
    "def get_func_desc(accession):\n",
    "\turl = url_func_req(accession)\n",
    "\treq = requests.get(url)\n",
    "\treturn req.json()\n",
    "\n",
    "j = get_func_desc(\"A1A519\")"
   ]
  },
  {
   "cell_type": "code",
   "execution_count": 12,
   "metadata": {},
   "outputs": [],
   "source": [
    "def parse_func_desc(desc):\n",
    "\tif \"comments\" not in desc or len(desc[\"comments\"]) == 0:\n",
    "\t\treturn None\n",
    "\tcomments = desc[\"comments\"][0]\n",
    "\ttexts = comments[\"texts\"][0]\n",
    "\tvalue = texts[\"value\"]\n",
    "\treturn value"
   ]
  },
  {
   "cell_type": "code",
   "execution_count": 13,
   "metadata": {},
   "outputs": [],
   "source": [
    "import pandas as pd"
   ]
  },
  {
   "cell_type": "code",
   "execution_count": 14,
   "metadata": {},
   "outputs": [],
   "source": [
    "df = pd.read_parquet(\"../data/569k-protein-embeddings.parquet\")"
   ]
  },
  {
   "cell_type": "code",
   "execution_count": 15,
   "metadata": {},
   "outputs": [],
   "source": [
    "accs = df[\"accession\"].tolist()"
   ]
  },
  {
   "cell_type": "code",
   "execution_count": 16,
   "metadata": {},
   "outputs": [],
   "source": [
    "import asyncio\n",
    "import aiohttp"
   ]
  },
  {
   "cell_type": "code",
   "execution_count": 27,
   "metadata": {},
   "outputs": [],
   "source": [
    "async def get(url, session):\n",
    "    try:\n",
    "        async with session.get(url=url) as response:\n",
    "            resp = await response.json()\n",
    "            return resp\n",
    "    except Exception as e:\n",
    "        print(\"Unable to get url {} due to {}.\".format(url, e.__class__))"
   ]
  },
  {
   "cell_type": "code",
   "execution_count": 28,
   "metadata": {},
   "outputs": [],
   "source": [
    "async def parallel_fetch(urls):\n",
    "    async with aiohttp.ClientSession() as session:\n",
    "        ret = await asyncio.gather(*(get(url, session) for url in urls))\n",
    "    return ret"
   ]
  },
  {
   "cell_type": "code",
   "execution_count": 29,
   "metadata": {},
   "outputs": [],
   "source": [
    "urls = [url_func_req(i) for i in accs]"
   ]
  },
  {
   "cell_type": "code",
   "execution_count": 30,
   "metadata": {},
   "outputs": [
    {
     "name": "stderr",
     "output_type": "stream",
     "text": [
      "100%|██████████| 570/570 [18:31<00:00,  1.95s/it]\n"
     ]
    }
   ],
   "source": [
    "from tqdm import tqdm\n",
    "\n",
    "batch_size = 1000\n",
    "results = []\n",
    "for i in tqdm(range(0, len(urls), batch_size)):\n",
    "\tb = urls[i:i+batch_size]\n",
    "\tres = await parallel_fetch(b)\n",
    "\tresults.extend([parse_func_desc(d) for d in res])"
   ]
  },
  {
   "cell_type": "code",
   "execution_count": 34,
   "metadata": {},
   "outputs": [],
   "source": [
    "df[\"function\"] = results;"
   ]
  },
  {
   "cell_type": "code",
   "execution_count": 37,
   "metadata": {},
   "outputs": [],
   "source": [
    "df.to_parquet(\"../data/569k-protein-embeddings-large.parquet\")"
   ]
  }
 ],
 "metadata": {
  "kernelspec": {
   "display_name": "Python 3",
   "language": "python",
   "name": "python3"
  },
  "language_info": {
   "codemirror_mode": {
    "name": "ipython",
    "version": 3
   },
   "file_extension": ".py",
   "mimetype": "text/x-python",
   "name": "python",
   "nbconvert_exporter": "python",
   "pygments_lexer": "ipython3",
   "version": "3.12.3"
  }
 },
 "nbformat": 4,
 "nbformat_minor": 2
}
