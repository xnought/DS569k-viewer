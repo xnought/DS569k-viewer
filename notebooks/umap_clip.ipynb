{
 "cells": [
  {
   "cell_type": "code",
   "execution_count": 4,
   "metadata": {},
   "outputs": [],
   "source": [
    "import pandas as pd\n",
    "import umap\n",
    "import matplotlib.pyplot as plt\n",
    "import numpy as np"
   ]
  },
  {
   "cell_type": "code",
   "execution_count": 4,
   "metadata": {},
   "outputs": [],
   "source": [
    "from umap.parametric_umap import ParametricUMAP\n",
    "embedder = ParametricUMAP()"
   ]
  },
  {
   "cell_type": "code",
   "execution_count": 5,
   "metadata": {},
   "outputs": [],
   "source": [
    "df = pd.read_parquet(columns=[\"proteinclip\"], path=\"../data/uniprot-esm2-layers6-protein-clip-filter.parquet\")"
   ]
  },
  {
   "cell_type": "code",
   "execution_count": 3,
   "metadata": {},
   "outputs": [
    {
     "data": {
      "text/html": [
       "<div>\n",
       "<style scoped>\n",
       "    .dataframe tbody tr th:only-of-type {\n",
       "        vertical-align: middle;\n",
       "    }\n",
       "\n",
       "    .dataframe tbody tr th {\n",
       "        vertical-align: top;\n",
       "    }\n",
       "\n",
       "    .dataframe thead th {\n",
       "        text-align: right;\n",
       "    }\n",
       "</style>\n",
       "<table border=\"1\" class=\"dataframe\">\n",
       "  <thead>\n",
       "    <tr style=\"text-align: right;\">\n",
       "      <th></th>\n",
       "      <th>accession</th>\n",
       "      <th>name</th>\n",
       "      <th>description</th>\n",
       "      <th>sequence</th>\n",
       "      <th>embedding</th>\n",
       "      <th>proteinclip</th>\n",
       "    </tr>\n",
       "  </thead>\n",
       "  <tbody>\n",
       "    <tr>\n",
       "      <th>0</th>\n",
       "      <td>Q6GZX4</td>\n",
       "      <td>001R_FRG3G</td>\n",
       "      <td>Putative transcription factor 001R OS=Frog vir...</td>\n",
       "      <td>MAFSAEDVLKEYDRRRRMEALLLSLYYPNDRKLLDYKEWSPPRVQV...</td>\n",
       "      <td>[-0.082492255, -0.1319762, 0.115043, 0.2082809...</td>\n",
       "      <td>[0.04449856, -0.026282415, -0.021146363, -0.13...</td>\n",
       "    </tr>\n",
       "    <tr>\n",
       "      <th>1</th>\n",
       "      <td>Q6GZX3</td>\n",
       "      <td>002L_FRG3G</td>\n",
       "      <td>Uncharacterized protein 002L OS=Frog virus 3 (...</td>\n",
       "      <td>MSIIGATRLQNDKSDTYSAGPCYAGGCSAFTPRGTCGKDWDLGEQT...</td>\n",
       "      <td>[0.035897277, 0.056123216, 0.06703286, 0.14852...</td>\n",
       "      <td>[0.02050763, 0.071638905, 0.13379616, -0.21884...</td>\n",
       "    </tr>\n",
       "    <tr>\n",
       "      <th>2</th>\n",
       "      <td>Q197F8</td>\n",
       "      <td>002R_IIV3</td>\n",
       "      <td>Uncharacterized protein 002R OS=Invertebrate i...</td>\n",
       "      <td>MASNTVSAQGGSNRPVRDFSNIQDVAQFLLFDPIWNEQPGSIVPWK...</td>\n",
       "      <td>[-0.07549502, -0.033397272, -0.051575065, -0.0...</td>\n",
       "      <td>[-0.108150415, -0.09237941, -0.011965201, -0.0...</td>\n",
       "    </tr>\n",
       "    <tr>\n",
       "      <th>3</th>\n",
       "      <td>Q197F7</td>\n",
       "      <td>003L_IIV3</td>\n",
       "      <td>Uncharacterized protein 003L OS=Invertebrate i...</td>\n",
       "      <td>MYQAINPCPQSWYGSPQLEREIVCKMSGAPHYPNYYPVHPNALGGA...</td>\n",
       "      <td>[0.05108296, -0.36502212, -0.09640725, 0.16490...</td>\n",
       "      <td>[0.0614467, 0.046021983, 0.022491818, -0.09918...</td>\n",
       "    </tr>\n",
       "    <tr>\n",
       "      <th>4</th>\n",
       "      <td>Q6GZX2</td>\n",
       "      <td>003R_FRG3G</td>\n",
       "      <td>Uncharacterized protein 3R OS=Frog virus 3 (is...</td>\n",
       "      <td>MARPLLGKTSSVRRRLESLSACSIFFFLRKFCQKMASLVFLNSPVY...</td>\n",
       "      <td>[0.02195684, 0.010273599, 0.14135766, 0.000406...</td>\n",
       "      <td>[-0.00058041594, -0.0007905926, 0.0051534628, ...</td>\n",
       "    </tr>\n",
       "    <tr>\n",
       "      <th>...</th>\n",
       "      <td>...</td>\n",
       "      <td>...</td>\n",
       "      <td>...</td>\n",
       "      <td>...</td>\n",
       "      <td>...</td>\n",
       "      <td>...</td>\n",
       "    </tr>\n",
       "    <tr>\n",
       "      <th>103520</th>\n",
       "      <td>None</td>\n",
       "      <td>None</td>\n",
       "      <td>None</td>\n",
       "      <td>None</td>\n",
       "      <td>[-0.094848536, -0.21600209, -0.013359933, 0.17...</td>\n",
       "      <td>[0.097080246, 0.04751096, 0.17807864, -0.01912...</td>\n",
       "    </tr>\n",
       "    <tr>\n",
       "      <th>106017</th>\n",
       "      <td>None</td>\n",
       "      <td>None</td>\n",
       "      <td>None</td>\n",
       "      <td>None</td>\n",
       "      <td>[0.030914783, -0.003165883, 0.08125103, 0.0933...</td>\n",
       "      <td>[0.13108149, -0.03240784, 0.029044146, -0.0338...</td>\n",
       "    </tr>\n",
       "    <tr>\n",
       "      <th>106018</th>\n",
       "      <td>None</td>\n",
       "      <td>None</td>\n",
       "      <td>None</td>\n",
       "      <td>None</td>\n",
       "      <td>[-0.08149598, -0.10764817, 0.06987058, 0.18540...</td>\n",
       "      <td>[0.17530896, -0.15127455, 0.01790283, -0.03650...</td>\n",
       "    </tr>\n",
       "    <tr>\n",
       "      <th>107432</th>\n",
       "      <td>None</td>\n",
       "      <td>None</td>\n",
       "      <td>None</td>\n",
       "      <td>None</td>\n",
       "      <td>[-0.12378188, -0.15468797, 0.06823337, -0.0496...</td>\n",
       "      <td>[0.056334704, -0.11288522, 0.07654911, 0.02168...</td>\n",
       "    </tr>\n",
       "    <tr>\n",
       "      <th>107444</th>\n",
       "      <td>None</td>\n",
       "      <td>None</td>\n",
       "      <td>None</td>\n",
       "      <td>None</td>\n",
       "      <td>[-0.04936653, -0.10833209, 0.116707146, 0.1046...</td>\n",
       "      <td>[-0.12732956, 0.0687529, 0.110390216, -0.13388...</td>\n",
       "    </tr>\n",
       "  </tbody>\n",
       "</table>\n",
       "<p>413214 rows × 6 columns</p>\n",
       "</div>"
      ],
      "text/plain": [
       "       accession        name  \\\n",
       "0         Q6GZX4  001R_FRG3G   \n",
       "1         Q6GZX3  002L_FRG3G   \n",
       "2         Q197F8   002R_IIV3   \n",
       "3         Q197F7   003L_IIV3   \n",
       "4         Q6GZX2  003R_FRG3G   \n",
       "...          ...         ...   \n",
       "103520      None        None   \n",
       "106017      None        None   \n",
       "106018      None        None   \n",
       "107432      None        None   \n",
       "107444      None        None   \n",
       "\n",
       "                                              description  \\\n",
       "0       Putative transcription factor 001R OS=Frog vir...   \n",
       "1       Uncharacterized protein 002L OS=Frog virus 3 (...   \n",
       "2       Uncharacterized protein 002R OS=Invertebrate i...   \n",
       "3       Uncharacterized protein 003L OS=Invertebrate i...   \n",
       "4       Uncharacterized protein 3R OS=Frog virus 3 (is...   \n",
       "...                                                   ...   \n",
       "103520                                               None   \n",
       "106017                                               None   \n",
       "106018                                               None   \n",
       "107432                                               None   \n",
       "107444                                               None   \n",
       "\n",
       "                                                 sequence  \\\n",
       "0       MAFSAEDVLKEYDRRRRMEALLLSLYYPNDRKLLDYKEWSPPRVQV...   \n",
       "1       MSIIGATRLQNDKSDTYSAGPCYAGGCSAFTPRGTCGKDWDLGEQT...   \n",
       "2       MASNTVSAQGGSNRPVRDFSNIQDVAQFLLFDPIWNEQPGSIVPWK...   \n",
       "3       MYQAINPCPQSWYGSPQLEREIVCKMSGAPHYPNYYPVHPNALGGA...   \n",
       "4       MARPLLGKTSSVRRRLESLSACSIFFFLRKFCQKMASLVFLNSPVY...   \n",
       "...                                                   ...   \n",
       "103520                                               None   \n",
       "106017                                               None   \n",
       "106018                                               None   \n",
       "107432                                               None   \n",
       "107444                                               None   \n",
       "\n",
       "                                                embedding  \\\n",
       "0       [-0.082492255, -0.1319762, 0.115043, 0.2082809...   \n",
       "1       [0.035897277, 0.056123216, 0.06703286, 0.14852...   \n",
       "2       [-0.07549502, -0.033397272, -0.051575065, -0.0...   \n",
       "3       [0.05108296, -0.36502212, -0.09640725, 0.16490...   \n",
       "4       [0.02195684, 0.010273599, 0.14135766, 0.000406...   \n",
       "...                                                   ...   \n",
       "103520  [-0.094848536, -0.21600209, -0.013359933, 0.17...   \n",
       "106017  [0.030914783, -0.003165883, 0.08125103, 0.0933...   \n",
       "106018  [-0.08149598, -0.10764817, 0.06987058, 0.18540...   \n",
       "107432  [-0.12378188, -0.15468797, 0.06823337, -0.0496...   \n",
       "107444  [-0.04936653, -0.10833209, 0.116707146, 0.1046...   \n",
       "\n",
       "                                              proteinclip  \n",
       "0       [0.04449856, -0.026282415, -0.021146363, -0.13...  \n",
       "1       [0.02050763, 0.071638905, 0.13379616, -0.21884...  \n",
       "2       [-0.108150415, -0.09237941, -0.011965201, -0.0...  \n",
       "3       [0.0614467, 0.046021983, 0.022491818, -0.09918...  \n",
       "4       [-0.00058041594, -0.0007905926, 0.0051534628, ...  \n",
       "...                                                   ...  \n",
       "103520  [0.097080246, 0.04751096, 0.17807864, -0.01912...  \n",
       "106017  [0.13108149, -0.03240784, 0.029044146, -0.0338...  \n",
       "106018  [0.17530896, -0.15127455, 0.01790283, -0.03650...  \n",
       "107432  [0.056334704, -0.11288522, 0.07654911, 0.02168...  \n",
       "107444  [-0.12732956, 0.0687529, 0.110390216, -0.13388...  \n",
       "\n",
       "[413214 rows x 6 columns]"
      ]
     },
     "execution_count": 3,
     "metadata": {},
     "output_type": "execute_result"
    }
   ],
   "source": [
    "d = pd.read_parquet(path=\"../data/uniprot-esm2-layers6-protein-clip-filter.parquet\")\n",
    "d"
   ]
  },
  {
   "cell_type": "code",
   "execution_count": 6,
   "metadata": {},
   "outputs": [],
   "source": [
    "d = df[\"proteinclip\"].tolist()"
   ]
  },
  {
   "cell_type": "code",
   "execution_count": 12,
   "metadata": {},
   "outputs": [],
   "source": [
    "x = np.array(d[0:10_000])"
   ]
  },
  {
   "cell_type": "code",
   "execution_count": 13,
   "metadata": {},
   "outputs": [
    {
     "name": "stdout",
     "output_type": "stream",
     "text": [
      "Epoch 1/10\n"
     ]
    },
    {
     "name": "stderr",
     "output_type": "stream",
     "text": [
      "/usr/local/lib/python3.12/site-packages/keras/src/layers/layer.py:391: UserWarning: `build()` was called on layer 'umap_model', however the layer does not have a `build()` method implemented and it looks like it has unbuilt state. This will cause the layer to be marked as built, despite not being actually built, which may cause failures down the line. Make sure to implement a proper `build()` method.\n",
      "  warnings.warn(\n"
     ]
    },
    {
     "name": "stdout",
     "output_type": "stream",
     "text": [
      "\u001b[1m3358/3358\u001b[0m \u001b[32m━━━━━━━━━━━━━━━━━━━━\u001b[0m\u001b[37m\u001b[0m \u001b[1m22s\u001b[0m 6ms/step - loss: 0.1669\n",
      "Epoch 2/10\n",
      "\u001b[1m3358/3358\u001b[0m \u001b[32m━━━━━━━━━━━━━━━━━━━━\u001b[0m\u001b[37m\u001b[0m \u001b[1m20s\u001b[0m 6ms/step - loss: 0.1480\n",
      "Epoch 3/10\n",
      "\u001b[1m3358/3358\u001b[0m \u001b[32m━━━━━━━━━━━━━━━━━━━━\u001b[0m\u001b[37m\u001b[0m \u001b[1m20s\u001b[0m 6ms/step - loss: 0.1462\n",
      "Epoch 4/10\n",
      "\u001b[1m3358/3358\u001b[0m \u001b[32m━━━━━━━━━━━━━━━━━━━━\u001b[0m\u001b[37m\u001b[0m \u001b[1m20s\u001b[0m 6ms/step - loss: 0.1454\n",
      "Epoch 5/10\n",
      "\u001b[1m3358/3358\u001b[0m \u001b[32m━━━━━━━━━━━━━━━━━━━━\u001b[0m\u001b[37m\u001b[0m \u001b[1m20s\u001b[0m 6ms/step - loss: 0.1450\n",
      "Epoch 6/10\n",
      "\u001b[1m3358/3358\u001b[0m \u001b[32m━━━━━━━━━━━━━━━━━━━━\u001b[0m\u001b[37m\u001b[0m \u001b[1m20s\u001b[0m 6ms/step - loss: 0.1446\n",
      "Epoch 7/10\n",
      "\u001b[1m3358/3358\u001b[0m \u001b[32m━━━━━━━━━━━━━━━━━━━━\u001b[0m\u001b[37m\u001b[0m \u001b[1m20s\u001b[0m 6ms/step - loss: 0.1442\n",
      "Epoch 8/10\n",
      "\u001b[1m3358/3358\u001b[0m \u001b[32m━━━━━━━━━━━━━━━━━━━━\u001b[0m\u001b[37m\u001b[0m \u001b[1m20s\u001b[0m 6ms/step - loss: 0.1441\n",
      "Epoch 9/10\n",
      "\u001b[1m3358/3358\u001b[0m \u001b[32m━━━━━━━━━━━━━━━━━━━━\u001b[0m\u001b[37m\u001b[0m \u001b[1m20s\u001b[0m 6ms/step - loss: 0.1439\n",
      "Epoch 10/10\n",
      "\u001b[1m3358/3358\u001b[0m \u001b[32m━━━━━━━━━━━━━━━━━━━━\u001b[0m\u001b[37m\u001b[0m \u001b[1m20s\u001b[0m 6ms/step - loss: 0.1438\n"
     ]
    }
   ],
   "source": [
    "# m = umap.UMAP() \n",
    "twoD = embedder.fit_transform(x)"
   ]
  },
  {
   "cell_type": "code",
   "execution_count": 14,
   "metadata": {},
   "outputs": [
    {
     "data": {
      "text/plain": [
       "<matplotlib.collections.PathCollection at 0x1309c5430>"
      ]
     },
     "execution_count": 14,
     "metadata": {},
     "output_type": "execute_result"
    },
    {
     "data": {
      "image/png": "[encoded data removed]",
      "text/plain": [
       "<Figure size 640x480 with 1 Axes>"
      ]
     },
     "metadata": {},
     "output_type": "display_data"
    }
   ],
   "source": [
    "plt.scatter(twoD[:, 0], twoD[:, 1])"
   ]
  }
 ],
 "metadata": {
  "kernelspec": {
   "display_name": "Python 3",
   "language": "python",
   "name": "python3"
  },
  "language_info": {
   "codemirror_mode": {
    "name": "ipython",
    "version": 3
   },
   "file_extension": ".py",
   "mimetype": "text/x-python",
   "name": "python",
   "nbconvert_exporter": "python",
   "pygments_lexer": "ipython3",
   "version": "3.12.3"
  }
 },
 "nbformat": 4,
 "nbformat_minor": 2
}
