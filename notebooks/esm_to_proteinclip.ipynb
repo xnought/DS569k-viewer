{
 "cells": [
  {
   "cell_type": "code",
   "execution_count": 14,
   "metadata": {},
   "outputs": [],
   "source": [
    "from protein_clip import load_proteinclip\n",
    "from tqdm import tqdm"
   ]
  },
  {
   "cell_type": "code",
   "execution_count": 2,
   "metadata": {},
   "outputs": [],
   "source": [
    "import pandas as pd"
   ]
  },
  {
   "cell_type": "code",
   "execution_count": 23,
   "metadata": {},
   "outputs": [],
   "source": [
    "m = load_proteinclip(6)"
   ]
  },
  {
   "cell_type": "code",
   "execution_count": 3,
   "metadata": {},
   "outputs": [],
   "source": [
    "df = pd.read_parquet(\"./uniprot-esm2-layers6.parquet\")"
   ]
  },
  {
   "cell_type": "code",
   "execution_count": 12,
   "metadata": {},
   "outputs": [],
   "source": [
    "dfw = df[df[\"embedding\"].apply(len) == 320]"
   ]
  },
  {
   "cell_type": "code",
   "execution_count": null,
   "metadata": {},
   "outputs": [],
   "source": []
  },
  {
   "cell_type": "code",
   "execution_count": 13,
   "metadata": {},
   "outputs": [
    {
     "data": {
      "text/html": [
       "<div>\n",
       "<style scoped>\n",
       "    .dataframe tbody tr th:only-of-type {\n",
       "        vertical-align: middle;\n",
       "    }\n",
       "\n",
       "    .dataframe tbody tr th {\n",
       "        vertical-align: top;\n",
       "    }\n",
       "\n",
       "    .dataframe thead th {\n",
       "        text-align: right;\n",
       "    }\n",
       "</style>\n",
       "<table border=\"1\" class=\"dataframe\">\n",
       "  <thead>\n",
       "    <tr style=\"text-align: right;\">\n",
       "      <th></th>\n",
       "      <th>accession</th>\n",
       "      <th>name</th>\n",
       "      <th>description</th>\n",
       "      <th>sequence</th>\n",
       "      <th>embedding</th>\n",
       "    </tr>\n",
       "  </thead>\n",
       "  <tbody>\n",
       "    <tr>\n",
       "      <th>0</th>\n",
       "      <td>Q6GZX4</td>\n",
       "      <td>001R_FRG3G</td>\n",
       "      <td>Putative transcription factor 001R OS=Frog vir...</td>\n",
       "      <td>MAFSAEDVLKEYDRRRRMEALLLSLYYPNDRKLLDYKEWSPPRVQV...</td>\n",
       "      <td>[-0.082492255, -0.1319762, 0.115043, 0.2082809...</td>\n",
       "    </tr>\n",
       "    <tr>\n",
       "      <th>1</th>\n",
       "      <td>Q6GZX3</td>\n",
       "      <td>002L_FRG3G</td>\n",
       "      <td>Uncharacterized protein 002L OS=Frog virus 3 (...</td>\n",
       "      <td>MSIIGATRLQNDKSDTYSAGPCYAGGCSAFTPRGTCGKDWDLGEQT...</td>\n",
       "      <td>[0.035897277, 0.056123216, 0.06703286, 0.14852...</td>\n",
       "    </tr>\n",
       "    <tr>\n",
       "      <th>2</th>\n",
       "      <td>Q197F8</td>\n",
       "      <td>002R_IIV3</td>\n",
       "      <td>Uncharacterized protein 002R OS=Invertebrate i...</td>\n",
       "      <td>MASNTVSAQGGSNRPVRDFSNIQDVAQFLLFDPIWNEQPGSIVPWK...</td>\n",
       "      <td>[-0.07549502, -0.033397272, -0.051575065, -0.0...</td>\n",
       "    </tr>\n",
       "    <tr>\n",
       "      <th>3</th>\n",
       "      <td>Q197F7</td>\n",
       "      <td>003L_IIV3</td>\n",
       "      <td>Uncharacterized protein 003L OS=Invertebrate i...</td>\n",
       "      <td>MYQAINPCPQSWYGSPQLEREIVCKMSGAPHYPNYYPVHPNALGGA...</td>\n",
       "      <td>[0.05108296, -0.36502212, -0.09640725, 0.16490...</td>\n",
       "    </tr>\n",
       "    <tr>\n",
       "      <th>4</th>\n",
       "      <td>Q6GZX2</td>\n",
       "      <td>003R_FRG3G</td>\n",
       "      <td>Uncharacterized protein 3R OS=Frog virus 3 (is...</td>\n",
       "      <td>MARPLLGKTSSVRRRLESLSACSIFFFLRKFCQKMASLVFLNSPVY...</td>\n",
       "      <td>[0.02195684, 0.010273599, 0.14135766, 0.000406...</td>\n",
       "    </tr>\n",
       "    <tr>\n",
       "      <th>...</th>\n",
       "      <td>...</td>\n",
       "      <td>...</td>\n",
       "      <td>...</td>\n",
       "      <td>...</td>\n",
       "      <td>...</td>\n",
       "    </tr>\n",
       "    <tr>\n",
       "      <th>103520</th>\n",
       "      <td>None</td>\n",
       "      <td>None</td>\n",
       "      <td>None</td>\n",
       "      <td>None</td>\n",
       "      <td>[-0.094848536, -0.21600209, -0.013359933, 0.17...</td>\n",
       "    </tr>\n",
       "    <tr>\n",
       "      <th>106017</th>\n",
       "      <td>None</td>\n",
       "      <td>None</td>\n",
       "      <td>None</td>\n",
       "      <td>None</td>\n",
       "      <td>[0.030914783, -0.003165883, 0.08125103, 0.0933...</td>\n",
       "    </tr>\n",
       "    <tr>\n",
       "      <th>106018</th>\n",
       "      <td>None</td>\n",
       "      <td>None</td>\n",
       "      <td>None</td>\n",
       "      <td>None</td>\n",
       "      <td>[-0.08149598, -0.10764817, 0.06987058, 0.18540...</td>\n",
       "    </tr>\n",
       "    <tr>\n",
       "      <th>107432</th>\n",
       "      <td>None</td>\n",
       "      <td>None</td>\n",
       "      <td>None</td>\n",
       "      <td>None</td>\n",
       "      <td>[-0.12378188, -0.15468797, 0.06823337, -0.0496...</td>\n",
       "    </tr>\n",
       "    <tr>\n",
       "      <th>107444</th>\n",
       "      <td>None</td>\n",
       "      <td>None</td>\n",
       "      <td>None</td>\n",
       "      <td>None</td>\n",
       "      <td>[-0.04936653, -0.10833209, 0.116707146, 0.1046...</td>\n",
       "    </tr>\n",
       "  </tbody>\n",
       "</table>\n",
       "<p>413214 rows × 5 columns</p>\n",
       "</div>"
      ],
      "text/plain": [
       "       accession        name  \\\n",
       "0         Q6GZX4  001R_FRG3G   \n",
       "1         Q6GZX3  002L_FRG3G   \n",
       "2         Q197F8   002R_IIV3   \n",
       "3         Q197F7   003L_IIV3   \n",
       "4         Q6GZX2  003R_FRG3G   \n",
       "...          ...         ...   \n",
       "103520      None        None   \n",
       "106017      None        None   \n",
       "106018      None        None   \n",
       "107432      None        None   \n",
       "107444      None        None   \n",
       "\n",
       "                                              description  \\\n",
       "0       Putative transcription factor 001R OS=Frog vir...   \n",
       "1       Uncharacterized protein 002L OS=Frog virus 3 (...   \n",
       "2       Uncharacterized protein 002R OS=Invertebrate i...   \n",
       "3       Uncharacterized protein 003L OS=Invertebrate i...   \n",
       "4       Uncharacterized protein 3R OS=Frog virus 3 (is...   \n",
       "...                                                   ...   \n",
       "103520                                               None   \n",
       "106017                                               None   \n",
       "106018                                               None   \n",
       "107432                                               None   \n",
       "107444                                               None   \n",
       "\n",
       "                                                 sequence  \\\n",
       "0       MAFSAEDVLKEYDRRRRMEALLLSLYYPNDRKLLDYKEWSPPRVQV...   \n",
       "1       MSIIGATRLQNDKSDTYSAGPCYAGGCSAFTPRGTCGKDWDLGEQT...   \n",
       "2       MASNTVSAQGGSNRPVRDFSNIQDVAQFLLFDPIWNEQPGSIVPWK...   \n",
       "3       MYQAINPCPQSWYGSPQLEREIVCKMSGAPHYPNYYPVHPNALGGA...   \n",
       "4       MARPLLGKTSSVRRRLESLSACSIFFFLRKFCQKMASLVFLNSPVY...   \n",
       "...                                                   ...   \n",
       "103520                                               None   \n",
       "106017                                               None   \n",
       "106018                                               None   \n",
       "107432                                               None   \n",
       "107444                                               None   \n",
       "\n",
       "                                                embedding  \n",
       "0       [-0.082492255, -0.1319762, 0.115043, 0.2082809...  \n",
       "1       [0.035897277, 0.056123216, 0.06703286, 0.14852...  \n",
       "2       [-0.07549502, -0.033397272, -0.051575065, -0.0...  \n",
       "3       [0.05108296, -0.36502212, -0.09640725, 0.16490...  \n",
       "4       [0.02195684, 0.010273599, 0.14135766, 0.000406...  \n",
       "...                                                   ...  \n",
       "103520  [-0.094848536, -0.21600209, -0.013359933, 0.17...  \n",
       "106017  [0.030914783, -0.003165883, 0.08125103, 0.0933...  \n",
       "106018  [-0.08149598, -0.10764817, 0.06987058, 0.18540...  \n",
       "107432  [-0.12378188, -0.15468797, 0.06823337, -0.0496...  \n",
       "107444  [-0.04936653, -0.10833209, 0.116707146, 0.1046...  \n",
       "\n",
       "[413214 rows x 5 columns]"
      ]
     },
     "execution_count": 13,
     "metadata": {},
     "output_type": "execute_result"
    }
   ],
   "source": [
    "dfw"
   ]
  },
  {
   "cell_type": "code",
   "execution_count": 36,
   "metadata": {},
   "outputs": [],
   "source": [
    "import numpy as np\n",
    "df[\"proteinclip\"] = df[\"embedding\"].apply(lambda _: np.zeros(1, dtype=\"float32\"))"
   ]
  },
  {
   "cell_type": "code",
   "execution_count": 37,
   "metadata": {},
   "outputs": [
    {
     "name": "stderr",
     "output_type": "stream",
     "text": [
      "100%|██████████| 413214/413214 [01:03<00:00, 6520.76it/s]\n"
     ]
    }
   ],
   "source": [
    "for i, row in tqdm(dfw.iterrows(), total=len(dfw)):\n",
    "    x = row[\"embedding\"]\n",
    "    x_norm = x / np.linalg.norm(x)\n",
    "    pc_embed = m.predict(x_norm)\n",
    "    df.at[i, \"proteinclip\"] = pc_embed"
   ]
  },
  {
   "cell_type": "code",
   "execution_count": 38,
   "metadata": {},
   "outputs": [],
   "source": [
    "df.to_parquet(\"./uniprot-esm2-layers6-protein-clip.parquet\")"
   ]
  },
  {
   "cell_type": "code",
   "execution_count": null,
   "metadata": {},
   "outputs": [],
   "source": []
  }
 ],
 "metadata": {
  "kernelspec": {
   "display_name": "Python 3",
   "language": "python",
   "name": "python3"
  },
  "language_info": {
   "codemirror_mode": {
    "name": "ipython",
    "version": 3
   },
   "file_extension": ".py",
   "mimetype": "text/x-python",
   "name": "python",
   "nbconvert_exporter": "python",
   "pygments_lexer": "ipython3",
   "version": "3.12.3"
  }
 },
 "nbformat": 4,
 "nbformat_minor": 2
}
